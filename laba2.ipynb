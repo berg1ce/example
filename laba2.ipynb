{
  "nbformat": 4,
  "nbformat_minor": 0,
  "metadata": {
    "colab": {
      "provenance": [],
      "authorship_tag": "ABX9TyNoEJXuOZz1RMqw1ifPhGtH",
      "include_colab_link": true
    },
    "kernelspec": {
      "name": "python3",
      "display_name": "Python 3"
    },
    "language_info": {
      "name": "python"
    }
  },
  "cells": [
    {
      "cell_type": "markdown",
      "metadata": {
        "id": "view-in-github",
        "colab_type": "text"
      },
      "source": [
        "<a href=\"https://colab.research.google.com/github/berg1ce/example/blob/main/laba2.ipynb\" target=\"_parent\"><img src=\"https://colab.research.google.com/assets/colab-badge.svg\" alt=\"Open In Colab\"/></a>"
      ]
    },
    {
      "cell_type": "code",
      "source": [
        "import pandas as pd\n",
        "\n",
        "# Загрузка данных\n",
        "df = pd.read_csv('Final_data.csv')\n",
        "\n",
        "# Выявление пропущенных значений\n",
        "missing_values = df.isnull().sum()\n",
        "print(\"Пропущенные значения:\")\n",
        "print(missing_values)\n",
        "\n",
        "# Сохранение в новый файл\n",
        "df.to_csv('Final_data_cleaned.csv', index=False)\n",
        "print(\"\\nДанные сохранены в файл: Final_data_cleaned.csv\")"
      ],
      "metadata": {
        "colab": {
          "base_uri": "https://localhost:8080/"
        },
        "id": "imPs-AGgbuZ-",
        "outputId": "31781f2f-e831-4f18-aad4-a6794267eb46"
      },
      "execution_count": 12,
      "outputs": [
        {
          "output_type": "stream",
          "name": "stdout",
          "text": [
            "Пропущенные значения:\n",
            "Age                               0\n",
            "Gender                            0\n",
            "Weight (kg)                       0\n",
            "Height (m)                        0\n",
            "Max_BPM                           0\n",
            "Avg_BPM                           0\n",
            "Resting_BPM                       0\n",
            "Session_Duration (hours)          0\n",
            "Calories_Burned                   0\n",
            "Workout_Type                      0\n",
            "Fat_Percentage                    0\n",
            "Water_Intake (liters)             0\n",
            "Workout_Frequency (days/week)     0\n",
            "Experience_Level                  0\n",
            "BMI                               0\n",
            "Daily meals frequency             0\n",
            "Physical exercise                 0\n",
            "Carbs                             0\n",
            "Proteins                          0\n",
            "Fats                              0\n",
            "Calories                          0\n",
            "meal_name                         0\n",
            "meal_type                         0\n",
            "diet_type                         0\n",
            "sugar_g                           0\n",
            "sodium_mg                         0\n",
            "cholesterol_mg                    0\n",
            "serving_size_g                    0\n",
            "cooking_method                    0\n",
            "prep_time_min                     0\n",
            "cook_time_min                     0\n",
            "rating                            0\n",
            "Name of Exercise                  0\n",
            "Sets                              0\n",
            "Reps                              0\n",
            "Benefit                           0\n",
            "Burns Calories (per 30 min)       0\n",
            "Target Muscle Group               0\n",
            "Equipment Needed                  0\n",
            "Difficulty Level                  0\n",
            "Body Part                         0\n",
            "Type of Muscle                    0\n",
            "Workout                           0\n",
            "BMI_calc                          0\n",
            "cal_from_macros                   0\n",
            "pct_carbs                         0\n",
            "protein_per_kg                    0\n",
            "pct_HRR                           0\n",
            "pct_maxHR                         0\n",
            "cal_balance                       0\n",
            "lean_mass_kg                      0\n",
            "expected_burn                     0\n",
            "Burns Calories (per 30 min)_bc    0\n",
            "Burns_Calories_Bin                0\n",
            "dtype: int64\n",
            "\n",
            "Данные сохранены в файл: Final_data_cleaned.csv\n"
          ]
        }
      ]
    }
  ]
}